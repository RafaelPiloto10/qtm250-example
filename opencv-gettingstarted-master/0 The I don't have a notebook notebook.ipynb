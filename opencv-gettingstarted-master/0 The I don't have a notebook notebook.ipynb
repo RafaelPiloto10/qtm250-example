{
 "cells": [
  {
   "cell_type": "markdown",
   "metadata": {
    "deletable": true,
    "editable": true
   },
   "source": [
    "## Running this tutorial without Jupyter\n",
    "\n",
    "If you are running on your own machine then install the whole tutorial. If you're running somewhere else... maybe in Aber Comp Sci Delph ... then you need to run standalone OpenCV. This is installed in the uni.\n",
    "\n",
    "First we need to import the relevant libraries: OpenCV itself, Numpy, and a couple of others. Common and Video are simple data handling and opening routines that you can find in the OpenCV Python Samples directory or from the github repo linked above.  We'll start each notebook with the same includes - you don't need all of them every time (so this is bad form, really) but it's easier to just copy and paste. "
   ]
  },
  {
   "cell_type": "code",
   "execution_count": 2,
   "metadata": {
    "collapsed": true,
    "deletable": true,
    "editable": true
   },
   "outputs": [],
   "source": [
    "# these imports let you use opencv\n",
    "import cv2 #opencv itself\n",
    "import common #some useful opencv functions\n",
    "import video # some video stuff\n",
    "import numpy as np # matrix manipulations"
   ]
  },
  {
   "cell_type": "markdown",
   "metadata": {
    "deletable": true,
    "editable": true
   },
   "source": [
    "The following box is useless if you're not using a notebook - they just enable the online notebook drawing stuff. "
   ]
  },
  {
   "cell_type": "code",
   "execution_count": 3,
   "metadata": {
    "collapsed": true,
    "deletable": true,
    "editable": true
   },
   "outputs": [],
   "source": [
    "#the following are to do with this interactive notebook code\n",
    "%matplotlib inline \n",
    "from matplotlib import pyplot as plt # this lets you draw inline pictures in the notebooks\n",
    "import pylab # this allows you to control figure size \n",
    "pylab.rcParams['figure.figsize'] = (10.0, 8.0) # this controls figure size in the notebook"
   ]
  },
  {
   "cell_type": "markdown",
   "metadata": {
    "deletable": true,
    "editable": true
   },
   "source": [
    "## stuff about window handling\n",
    "\n",
    "It's worth noting here that we're using matplotlib to show the images, as we're using a Jupyter notebook. This means we need to think about things like \"colormaps\".\n",
    "\n",
    "When you use OpenCV outside of the notebook context, there are other things to remember - you'll need to create a window to put the image into with \n",
    "\n",
    "```\n",
    "cv2.namedWindow(\"windowname\")\n",
    "```\n",
    "\n",
    "Then to put an image in the window you've created, you can use\n",
    "\n",
    "```\n",
    "cv2.imshow(\"windowname\",image_variable)\n",
    "```\n",
    "\n",
    "This won't actually do anything until you call the waitKey function, which is the function that does most of the work when it comes to OpenCV image display. It waits for user input, storing any keypresses in the keypress variable; however it also does the window redraw. **t** is the delay in milliseconds.\n",
    "```\n",
    "keypress=cv2.waitKey(t)\n",
    "```\n",
    "\n",
    "This is a **gotcha** for the opencv interface: even if you have no interest in waiting for a milisecond or two for keyboard input you have to do the waitKey in order to redraw the images.\n",
    "\n",
    "## playing in opencv\n",
    "\n",
    "If at any point you want to try any of this tutorial code outside the notebook context there's a file called \"play.py\" which has the window management stuff in it- try copying some code from this page into that file."
   ]
  },
  {
   "cell_type": "code",
   "execution_count": null,
   "metadata": {
    "collapsed": true,
    "deletable": true,
    "editable": true
   },
   "outputs": [],
   "source": []
  },
  {
   "cell_type": "markdown",
   "metadata": {
    "deletable": true,
    "editable": true
   },
   "source": [
    "[Next](1%20Getting%20started%20notebook.ipynb)"
   ]
  }
 ],
 "metadata": {
  "kernelspec": {
   "display_name": "Python 3",
   "language": "python",
   "name": "python3"
  },
  "language_info": {
   "codemirror_mode": {
    "name": "ipython",
    "version": 3
   },
   "file_extension": ".py",
   "mimetype": "text/x-python",
   "name": "python",
   "nbconvert_exporter": "python",
   "pygments_lexer": "ipython3",
   "version": "3.6.0"
  }
 },
 "nbformat": 4,
 "nbformat_minor": 0
}
