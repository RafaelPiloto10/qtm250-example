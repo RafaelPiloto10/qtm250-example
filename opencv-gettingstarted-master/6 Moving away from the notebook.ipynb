{
 "cells": [
  {
   "cell_type": "markdown",
   "metadata": {
    "deletable": true,
    "editable": true
   },
   "source": [
    "# Moving away from the notebook\n",
    "\n",
    "These Jupyter notebooks provide a nice code playground for looking at Python and testing individual ideas one by one but it is time to move away from this notebook and into an \"*actual program*\". You may have already been doing this with play.py file as we go along, but if not, it's time to open up a real program. \n",
    "\n",
    "What we're going to do is video, and we're going to do it with face detection to start off with. Open up (in a text editor or code editor...) the file \n",
    "\n",
    "```\n",
    "start.py\n",
    "```\n",
    "\n",
    "This has the following code at the top of it (should look familiar...)"
   ]
  },
  {
   "cell_type": "code",
   "execution_count": 1,
   "metadata": {
    "collapsed": true,
    "deletable": true,
    "editable": true
   },
   "outputs": [],
   "source": [
    "# these imports let you use opencv\n",
    "import cv2 #opencv itself\n",
    "import common #some useful opencv functions\n",
    "import video # some video stuff\n",
    "import numpy as np # matrix manipulations\n"
   ]
  },
  {
   "cell_type": "markdown",
   "metadata": {
    "deletable": true,
    "editable": true
   },
   "source": [
    "For the purposes of the notebook (this page that you're reading now) we're going to have to do some notebook code in order to view images here"
   ]
  },
  {
   "cell_type": "code",
   "execution_count": 2,
   "metadata": {
    "collapsed": true,
    "deletable": true,
    "editable": true
   },
   "outputs": [],
   "source": [
    "#the following are to do with this interactive notebook code\n",
    "%matplotlib inline \n",
    "from matplotlib import pyplot as plt # this lets you draw inline pictures in the notebooks\n",
    "import pylab # this allows you to control figure size \n",
    "pylab.rcParams['figure.figsize'] = (10.0, 8.0) # this controls figure size in the notebook"
   ]
  },
  {
   "cell_type": "markdown",
   "metadata": {
    "deletable": true,
    "editable": true
   },
   "source": [
    "The other code that is in the file start.py opens the webcam (if the webcam works), then just puts the contents of the webcam in a window until someone presses escape, while counting up the frames (until someone presses escape).\n",
    "\n",
    "Test this now. You should just have a really basic webcam viewer.\n",
    "\n",
    "What we are going to do now is to edit this webcam viewer and introduce detections (from previous notebooks) and some video processing"
   ]
  },
  {
   "cell_type": "markdown",
   "metadata": {
    "deletable": true,
    "editable": true
   },
   "source": [
    "## Coding exercise 1\n",
    "Make your webcam image greyscale, and view that in the webcam viewer\n",
    "\n",
    "## Coding exercise 2\n",
    "Run a face detector on your grey webcam image, and draw the output as rectangles"
   ]
  },
  {
   "cell_type": "markdown",
   "metadata": {
    "deletable": true,
    "editable": true
   },
   "source": [
    "## Coding exercise 3: motion detection\n",
    "\n",
    "Exercise 3 is a little more challenging and involves motion detection.  We're going to do this the simplest way which is to keep a moving average of the colour in each frame, and then compare that to the current frame.\n",
    "\n",
    "### 3a: setting up our constants\n",
    "\n",
    "Methods often have parameters, and these can be set outside the main video loop. The parameters we're going to set are fbuffer which is a variable for the number of frames in our buffer. We'll start with 15, this means that if something is still for 15 frames it will disappear into the background.  alpha is the update rate for our background model and is a function of fbuffer. difference_thresh is the amount of difference from the background model that we're willing to accept before saying \"*actually that object is moving*\".\n",
    "\n",
    "The final thing we set up is our actual moving average model, which is a variable called \"movingaverage\" the same size as the images we're getting, initialised with the first image (img).\n",
    "\n",
    "```\n",
    "fbuffer=15\n",
    "alpha=float(1.0/fbuffer) \n",
    "difference_thresh=10\n",
    "movingaverage=np.float32(img)\n",
    "```\n",
    "\n",
    "\n",
    "Copy these into the start.py file, outside of the main video loop.\n",
    "\n",
    "### 3b: looking at the moving average model\n",
    "\n",
    "\n",
    "Inside the video loop, we want to take each frame and update our moving average model. This is just one line of code in OpenCV (the first of the lines below) but we also want to take a look at it so we'll convert the scale so it'll show nicely as an image, and we'll copy the result to output image. \n",
    "\n",
    "```\n",
    "    cv2.accumulateWeighted(img,movingaverage,alpha) \n",
    "    res=cv2.convertScaleAbs(movingaverage)\n",
    "    # show the background model \n",
    "    output_image=res.copy()  \n",
    "```\n",
    "Add these to the file (before the facedetect section - we don't want to incorporate the face rectangles into our background model!) and take a look at the background model. \n",
    "\n",
    "Experiment with different values of fbuffer\n",
    "\n",
    "### 3c: looking at the difference image\n",
    "\n",
    "Take the absolute difference between the current image (img) and the scaled background image result (res): this is the simplest measure of motion at the pixel level.  Try looking at that in the output window.\n",
    "\n",
    "```\n",
    "    difference_img = cv2.absdiff(res, img)\n",
    "    output_image=difference_img.copy()  \n",
    "```    \n",
    "Again, experiment with different values of fbuffer to see what kinds of motion are detected.\n",
    "\n",
    "### 3d: convert the difference image to a binary (moving or not-moving) decision\n",
    "\n",
    "The difference image is in colour: first we'll convert it to greyscale in order to have it as a single channel. You know how to do this.\n",
    "\n",
    "Once we have a greyscale difference image, we need to threshold it to get a motion mask. \n",
    "\n",
    "```\n",
    "    ret,motionmask = cv2.threshold(grey_difference_img,difference_thresh,255,cv2.THRESH_BINARY)\n",
    "    output_image=motionmask.copy()  \n",
    "```\n",
    "The threshold function takes the variable \"difference_thresh\" which we declared at the start in 3a... Experiment with different values of difference_thresh to find out what works best in this situation"
   ]
  },
  {
   "cell_type": "markdown",
   "metadata": {
    "deletable": true,
    "editable": true
   },
   "source": [
    "## Coding exercise 4\n",
    "\n",
    "Combine the outputs of the background subtractor and the face detector in the visualisation window: the easiest way to do this is to make the motion mask a colour image and then draw the detected faces on that. \n",
    "\n",
    "### 4a convert the colourspace of the motion mask\n",
    "\n",
    "```\n",
    "    motionmask_visualisation= cv2.cvtColor(motionmask, cv2.COLOR_GRAY2BGR)\n",
    "```\n",
    "is a way of creating a colour version of your motion mask (which will at the current time still be black and white, obviously, as you've not drawn any colour on it yet). You want to do this just after the motion mask is created.\n",
    "\n",
    "### 4b copy the face detections from the input image to the motion mask\n",
    "\n",
    "If you look at the image fundamentals tutorial you can see how to create a little image (call it faceimage) which is a subpart of another image, and then you know how to copy that little image to a named position in a bigger image. That's basically what you need to do now.  You can do this in the facedetect loop where you are currently drawing blue squares - either as well as the squares, or instead of."
   ]
  },
  {
   "cell_type": "markdown",
   "metadata": {
    "deletable": true,
    "editable": true
   },
   "source": [
    "## Coding exercise 5\n",
    "\n",
    "There's probably some tiny foreground detections and some noise going on in your motion detection. \n",
    "\n",
    "Try smoothing (noise reduction) with a Gaussian. Remember you'll need to smooth your image before you add it to the background model, and you'll need to build the model based upon the smoothed version (otherwise you'll be calculating the difference between the input and a Gaussian smoothed input)."
   ]
  },
  {
   "cell_type": "markdown",
   "metadata": {
    "deletable": true,
    "editable": true
   },
   "source": [
    "## Additional coding exercises\n",
    "\n",
    "1.  Use connected components to find large foreground objects\n",
    "[ http://stackoverflow.com/questions/35854197/how-to-use-opencvs-connected-components-with-stats-in-python ] \n",
    "2.  Take the connected components bounding box and the face bounding box and work out left-of and right-of relations\n",
    "3.  Take a look at some of the trackers you can find in the OpenCV python samples. In particular look at Mosse tracker and Camshift tracker. You should be able to run these, although the initialisation might be an issue (you may need to click to initialise). \n"
   ]
  },
  {
   "cell_type": "code",
   "execution_count": null,
   "metadata": {
    "collapsed": true,
    "deletable": true,
    "editable": true
   },
   "outputs": [],
   "source": []
  },
  {
   "cell_type": "markdown",
   "metadata": {},
   "source": [
    "[Previous](5%20detecting%20faces%20and%20other%20things.ipynb)"
   ]
  }
 ],
 "metadata": {
  "kernelspec": {
   "display_name": "Python 3",
   "language": "python",
   "name": "python3"
  },
  "language_info": {
   "codemirror_mode": {
    "name": "ipython",
    "version": 3
   },
   "file_extension": ".py",
   "mimetype": "text/x-python",
   "name": "python",
   "nbconvert_exporter": "python",
   "pygments_lexer": "ipython3",
   "version": "3.6.0"
  }
 },
 "nbformat": 4,
 "nbformat_minor": 0
}
